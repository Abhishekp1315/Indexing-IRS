{
 "cells": [
  {
   "cell_type": "code",
   "execution_count": null,
   "id": "8994e79b",
   "metadata": {},
   "outputs": [
    {
     "name": "stdout",
     "output_type": "stream",
     "text": [
      "Enter 'index' to index text, 'search' to search, or 'exit' to quit: index\n",
      "Enter a document ID: 1\n",
      "Enter the text to index: abhishek is a goog boy\n",
      "Text indexed successfully.\n",
      "Enter 'index' to index text, 'search' to search, or 'exit' to quit: search\n",
      "Enter a term to search for: abhishek\n",
      "Documents containing 'abhishek': 1\n",
      "Enter 'index' to index text, 'search' to search, or 'exit' to quit: index\n",
      "Enter a document ID: 2\n",
      "Enter the text to index: gaurav kumar in apeejay\n",
      "Text indexed successfully.\n",
      "Enter 'index' to index text, 'search' to search, or 'exit' to quit: search\n",
      "Enter a term to search for: gaurav\n",
      "Documents containing 'gaurav': 2\n",
      "Enter 'index' to index text, 'search' to search, or 'exit' to quit: search\n",
      "Enter a term to search for: gaurav\n",
      "Documents containing 'gaurav': 2\n",
      "Enter 'index' to index text, 'search' to search, or 'exit' to quit: index\n",
      "Enter a document ID: 3\n",
      "Enter the text to index: abhishek at apeejay \n",
      "Text indexed successfully.\n",
      "Enter 'index' to index text, 'search' to search, or 'exit' to quit: search\n",
      "Enter a term to search for: abhishek\n",
      "Documents containing 'abhishek': 1, 3\n",
      "Enter 'index' to index text, 'search' to search, or 'exit' to quit: index\n",
      "Enter a document ID: 4\n",
      "Enter the text to index: apeejay stya university in gurugram\n",
      "Text indexed successfully.\n",
      "Enter 'index' to index text, 'search' to search, or 'exit' to quit: apeejay \n",
      "Invalid choice. Please enter 'index', 'search', or 'exit'.\n",
      "Enter 'index' to index text, 'search' to search, or 'exit' to quit: search\n",
      "Enter a term to search for: apeejay\n",
      "Documents containing 'apeejay': 2, 3, 4\n"
     ]
    }
   ],
   "source": [
    "# Create an empty dictionary to store the indexed data\n",
    "index = {}\n",
    "\n",
    "# Function to index text\n",
    "def index_text(text, doc_id):\n",
    "    # Split the text into words\n",
    "    words = text.lower().split()  # Convert to lowercase for case-insensitive indexing\n",
    "\n",
    "    # Index each word\n",
    "    for word in words:\n",
    "        if word in index:\n",
    "            index[word].append(doc_id)\n",
    "        else:\n",
    "            index[word] = [doc_id]\n",
    "\n",
    "# Function to search for a term in the indexed data\n",
    "def search_term(term):\n",
    "    term = term.lower()  # Convert the search term to lowercase for consistency\n",
    "    if term in index:\n",
    "        return index[term]\n",
    "    else:\n",
    "        return []\n",
    "\n",
    "# Main loop for user interaction\n",
    "while True:\n",
    "    choice = input(\"Enter 'index' to index text, 'search' to search, or 'exit' to quit: \")\n",
    "    \n",
    "    if choice == 'index':\n",
    "        doc_id = input(\"Enter a document ID: \")\n",
    "        text = input(\"Enter the text to index: \")\n",
    "        index_text(text, doc_id)\n",
    "        print(\"Text indexed successfully.\")\n",
    "    elif choice == 'search':\n",
    "        term = input(\"Enter a term to search for: \")\n",
    "        results = search_term(term)\n",
    "        if results:\n",
    "            print(f\"Documents containing '{term}': {', '.join(results)}\")\n",
    "        else:\n",
    "            print(f\"No documents found containing '{term}'.\")\n",
    "    elif choice == 'exit':\n",
    "        break\n",
    "    else:\n",
    "        print(\"Invalid choice. Please enter 'index', 'search', or 'exit'.\")\n"
   ]
  },
  {
   "cell_type": "code",
   "execution_count": null,
   "id": "ac71eb4c",
   "metadata": {},
   "outputs": [],
   "source": []
  }
 ],
 "metadata": {
  "kernelspec": {
   "display_name": "Python 3 (ipykernel)",
   "language": "python",
   "name": "python3"
  },
  "language_info": {
   "codemirror_mode": {
    "name": "ipython",
    "version": 3
   },
   "file_extension": ".py",
   "mimetype": "text/x-python",
   "name": "python",
   "nbconvert_exporter": "python",
   "pygments_lexer": "ipython3",
   "version": "3.11.4"
  }
 },
 "nbformat": 4,
 "nbformat_minor": 5
}
